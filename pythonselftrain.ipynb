{
  "nbformat": 4,
  "nbformat_minor": 0,
  "metadata": {
    "colab": {
      "provenance": [],
      "authorship_tag": "ABX9TyPloH3TfAaL+EjYYAPimoJi",
      "include_colab_link": true
    },
    "kernelspec": {
      "name": "python3",
      "display_name": "Python 3"
    },
    "language_info": {
      "name": "python"
    }
  },
  "cells": [
    {
      "cell_type": "markdown",
      "metadata": {
        "id": "view-in-github",
        "colab_type": "text"
      },
      "source": [
        "<a href=\"https://colab.research.google.com/github/dushuang2/hello-world/blob/master/pythonselftrain.ipynb\" target=\"_parent\"><img src=\"https://colab.research.google.com/assets/colab-badge.svg\" alt=\"Open In Colab\"/></a>"
      ]
    },
    {
      "cell_type": "code",
      "execution_count": null,
      "metadata": {
        "id": "dgnPcma4-49q"
      },
      "outputs": [],
      "source": []
    },
    {
      "cell_type": "markdown",
      "source": [
        "# New Section"
      ],
      "metadata": {
        "id": "sQFp6WdjmTek"
      }
    },
    {
      "cell_type": "markdown",
      "source": [
        "# Instroduction\n",
        "This is Alex's self training on Python code. This is based on the following YouTube training [video](https://www.youtube.com/watch?v=_uQrJ0TkZlc&list=RDCMUCWv7vMbMWH4-V0ZXdmDpPBA&start_radio=1)."
      ],
      "metadata": {
        "id": "xrPuuRzs_j2i"
      }
    },
    {
      "cell_type": "markdown",
      "source": [
        "1. String"
      ],
      "metadata": {
        "id": "jx86ghQ9_91-"
      }
    },
    {
      "cell_type": "markdown",
      "source": [
        "**String Input** can be defined as a variable and then be used in calculation."
      ],
      "metadata": {
        "id": "qgXkKwHKAbbM"
      }
    },
    {
      "cell_type": "code",
      "source": [
        "birth_year = input('Birth year: ')\n",
        "age = 2023 - int(birth_year)\n",
        "print(type(int(birth_year)))\n",
        "print(age)"
      ],
      "metadata": {
        "colab": {
          "base_uri": "https://localhost:8080/"
        },
        "id": "MImx36dFAB3e",
        "outputId": "4a1e57c4-d436-4421-97fe-d414f31a0a2c"
      },
      "execution_count": null,
      "outputs": [
        {
          "output_type": "stream",
          "name": "stdout",
          "text": [
            "Birth year: 1976\n",
            "<class 'int'>\n",
            "47\n"
          ]
        }
      ]
    },
    {
      "cell_type": "markdown",
      "source": [
        "Python **location** starts at 0."
      ],
      "metadata": {
        "id": "RDDtlX-0ApZX"
      }
    },
    {
      "cell_type": "code",
      "source": [
        "course = 'Python for beginners'\n",
        "print(course[1:-1])"
      ],
      "metadata": {
        "colab": {
          "base_uri": "https://localhost:8080/"
        },
        "id": "kepoxLRrAvqx",
        "outputId": "0712b665-2d30-4053-ebd4-9671d145e835"
      },
      "execution_count": null,
      "outputs": [
        {
          "output_type": "stream",
          "name": "stdout",
          "text": [
            "ython for beginner\n"
          ]
        }
      ]
    },
    {
      "cell_type": "markdown",
      "source": [
        "String format"
      ],
      "metadata": {
        "id": "aHqq_KdM6dgO"
      }
    },
    {
      "cell_type": "code",
      "source": [
        "first = 'Alex'\n",
        "last = 'Zhu'\n",
        "msg = f'{first} *{last}% is a coder.'\n",
        "print(msg)"
      ],
      "metadata": {
        "colab": {
          "base_uri": "https://localhost:8080/"
        },
        "id": "vJN-VwfL6ifG",
        "outputId": "e66089a8-f006-484d-89fb-f3447bc34815"
      },
      "execution_count": null,
      "outputs": [
        {
          "output_type": "stream",
          "name": "stdout",
          "text": [
            "Alex *Zhu% is a coder.\n"
          ]
        }
      ]
    },
    {
      "cell_type": "markdown",
      "source": [
        "String method"
      ],
      "metadata": {
        "id": "fiaEaByD6-7t"
      }
    },
    {
      "cell_type": "code",
      "source": [
        "course_repl = course.replace(\"beginners\", \"Experts\")\n",
        "print(course_repl)"
      ],
      "metadata": {
        "colab": {
          "base_uri": "https://localhost:8080/"
        },
        "id": "E12gNvp37CSd",
        "outputId": "bec4907f-8c5e-40d1-ca25-1fda3245aaae"
      },
      "execution_count": null,
      "outputs": [
        {
          "output_type": "stream",
          "name": "stdout",
          "text": [
            "Python for Experts\n"
          ]
        }
      ]
    },
    {
      "cell_type": "markdown",
      "source": [
        "Numbers"
      ],
      "metadata": {
        "id": "tzF_btuH754v"
      }
    },
    {
      "cell_type": "code",
      "source": [
        "x = 10\n",
        "x += 3\n",
        "print(x)"
      ],
      "metadata": {
        "colab": {
          "base_uri": "https://localhost:8080/"
        },
        "id": "zfvR5Bnn78RE",
        "outputId": "580f3364-6621-4ef5-c725-a0a73accfaee"
      },
      "execution_count": null,
      "outputs": [
        {
          "output_type": "stream",
          "name": "stdout",
          "text": [
            "13\n"
          ]
        }
      ]
    },
    {
      "cell_type": "code",
      "source": [
        "import math\n",
        "print(math.ceil(2.9))"
      ],
      "metadata": {
        "colab": {
          "base_uri": "https://localhost:8080/"
        },
        "id": "vcDjNKsZ8IYQ",
        "outputId": "6688000b-fdb0-47b2-be62-4560e36f2d41"
      },
      "execution_count": null,
      "outputs": [
        {
          "output_type": "stream",
          "name": "stdout",
          "text": [
            "3\n"
          ]
        }
      ]
    },
    {
      "cell_type": "markdown",
      "source": [
        "IF statement"
      ],
      "metadata": {
        "id": "oVbo0fEMAwca"
      }
    },
    {
      "cell_type": "code",
      "source": [
        "is_hot = False\n",
        "is_code = True\n",
        "\n",
        "if is_hot:\n",
        "  print(\"It's a hot day.\")\n",
        "  print(\"Drink a lot of water.\")\n",
        "elif is_code:\n",
        "  print(\"It's a code day.\")\n",
        "else:\n",
        "  print(\"It's a lovely day.\")\n",
        "print(\"Enjoy your day.\")"
      ],
      "metadata": {
        "colab": {
          "base_uri": "https://localhost:8080/"
        },
        "id": "VSGsSTnOAzG3",
        "outputId": "e5b1019e-6ff2-4cd7-88ea-5134834de401"
      },
      "execution_count": null,
      "outputs": [
        {
          "output_type": "stream",
          "name": "stdout",
          "text": [
            "It's a code day.\n",
            "Enjoy your day.\n"
          ]
        }
      ]
    },
    {
      "cell_type": "markdown",
      "source": [
        "Execise #1 (IF, ELSE)"
      ],
      "metadata": {
        "id": "h-hWncB9BcMQ"
      }
    },
    {
      "cell_type": "code",
      "source": [
        "weight = int(input('Weight: '))  #input always stores a string#\n",
        "unit = input('(K)g or (L)lbs: ')\n",
        "\n",
        "if unit.upper == 'K':\n",
        "  converted = weight * 0.45\n",
        "  print('Weight in Lbs: ' + str(converted))\n",
        "else:\n",
        "  converted = weight\n",
        "  print('Weight in Kgs: ' + str(converted))"
      ],
      "metadata": {
        "colab": {
          "base_uri": "https://localhost:8080/"
        },
        "id": "kXL2tEvqBgPu",
        "outputId": "6f6878c4-a4c3-4d0f-b876-db721253d91f"
      },
      "execution_count": null,
      "outputs": [
        {
          "output_type": "stream",
          "name": "stdout",
          "text": [
            "Weight: 65\n",
            "(K)g or (L)lbs: K\n",
            "Weight in Kgs: 65\n"
          ]
        }
      ]
    },
    {
      "cell_type": "markdown",
      "source": [
        "WHILE loop"
      ],
      "metadata": {
        "id": "zGiwWuk5CiW0"
      }
    },
    {
      "cell_type": "code",
      "source": [
        "i = 1\n",
        "while i <= 1_0:  #\"_\"sign makes it readable.#\n",
        "  print(i * \"*\")\n",
        "  i = i + 2"
      ],
      "metadata": {
        "colab": {
          "base_uri": "https://localhost:8080/"
        },
        "id": "6285g1ETCpMN",
        "outputId": "edbb175f-418b-4475-9b07-2209dd39208d"
      },
      "execution_count": null,
      "outputs": [
        {
          "output_type": "stream",
          "name": "stdout",
          "text": [
            "*\n",
            "***\n",
            "*****\n",
            "*******\n",
            "*********\n"
          ]
        }
      ]
    },
    {
      "cell_type": "markdown",
      "source": [
        "Execise #2: Guessing Game: To guess a secrete number 3 times"
      ],
      "metadata": {
        "id": "35VB_T9oVzZi"
      }
    },
    {
      "cell_type": "code",
      "source": [
        "secret_number = 9\n",
        "guess_count = 0\n",
        "guess_limit = 3\n",
        "while guess_count < guess_limit:\n",
        "  guess = int(input('Guess: '))\n",
        "  guess_count += 1\n",
        "  if guess == secret_number:\n",
        "      print('You won!')\n",
        "      break\n",
        "else:\n",
        "  print('Sorry, you failed!')\n",
        "\n"
      ],
      "metadata": {
        "colab": {
          "base_uri": "https://localhost:8080/"
        },
        "id": "PtV3XiHjV581",
        "outputId": "655b4235-4c2e-4fdf-dfc6-1bfeb809a282"
      },
      "execution_count": null,
      "outputs": [
        {
          "output_type": "stream",
          "name": "stdout",
          "text": [
            "Guess: 6\n",
            "Guess: 9\n",
            "You won!\n"
          ]
        }
      ]
    },
    {
      "cell_type": "markdown",
      "source": [
        "Execise #3: Car Game: If type \"help\", list a help list. Start, Stop, Quit the car."
      ],
      "metadata": {
        "id": "PmcVGb7tXiVO"
      }
    },
    {
      "cell_type": "code",
      "source": [
        "command = \"\"\n",
        "started = False\n",
        "while True:\n",
        "  command = input(\"> \").lower()\n",
        "  if command == 'start':\n",
        "    if started:\n",
        "      print(\"Car is already started!\")\n",
        "    else:\n",
        "      started = True\n",
        "      print(\"Car started.\")\n",
        "  elif command == 'stop':\n",
        "    if not started:\n",
        "      print(\"Car is already stopped.\")\n",
        "    else:\n",
        "      started = False\n",
        "      print(\"Car stopped\")\n",
        "  elif command == 'help':\n",
        "    print(\"\"\"\n",
        "start - to start the car\n",
        "stop - to stop the car\n",
        "quit - to quit\n",
        "    \"\"\")\n",
        "  elif command == 'quit':\n",
        "    break\n",
        "  else:\n",
        "    print(\"Sorry, I don't stand that.\")\n"
      ],
      "metadata": {
        "colab": {
          "base_uri": "https://localhost:8080/"
        },
        "id": "oadLRrpQXykD",
        "outputId": "d4927bec-2ab4-4fcf-d64e-4cc6430f1b11"
      },
      "execution_count": null,
      "outputs": [
        {
          "name": "stdout",
          "output_type": "stream",
          "text": [
            "> stop\n",
            "Car is already stopped.\n",
            "> started\n",
            "Sorry, I don't stand that.\n",
            "> start\n",
            "Car started.\n",
            "> quit\n"
          ]
        }
      ]
    },
    {
      "cell_type": "markdown",
      "source": [
        "FOR loop: use this to print out 1-5. 2 methods, the 1st is easier.\n",
        " FOR loop is very useful to break list to single items.\n",
        "> Indented block\n",
        "\n"
      ],
      "metadata": {
        "id": "4Us8JOp_D0j6"
      }
    },
    {
      "cell_type": "code",
      "source": [
        "numbers = [1,2,3,4,5]\n",
        "for item in numbers:\n",
        "  print(item)  # Same as below but easier #\n",
        "\n",
        "i = 0\n",
        "while i < len(numbers):\n",
        "  print(numbers[i])\n",
        "  i = i + 1"
      ],
      "metadata": {
        "colab": {
          "base_uri": "https://localhost:8080/"
        },
        "id": "gspwcvgDD3Nf",
        "outputId": "69d57e59-4818-491a-9ea3-339071026460"
      },
      "execution_count": null,
      "outputs": [
        {
          "output_type": "stream",
          "name": "stdout",
          "text": [
            "1\n",
            "2\n",
            "3\n",
            "4\n",
            "5\n",
            "1\n",
            "2\n",
            "3\n",
            "4\n",
            "5\n"
          ]
        }
      ]
    },
    {
      "cell_type": "code",
      "source": [
        "for item in 'Python':\n",
        "  print(item)"
      ],
      "metadata": {
        "colab": {
          "base_uri": "https://localhost:8080/"
        },
        "id": "rATOpyuVi28k",
        "outputId": "2ce9cff1-8363-456d-d69a-491db29e7fb7"
      },
      "execution_count": null,
      "outputs": [
        {
          "output_type": "stream",
          "name": "stdout",
          "text": [
            "P\n",
            "y\n",
            "t\n",
            "h\n",
            "o\n",
            "n\n"
          ]
        }
      ]
    },
    {
      "cell_type": "code",
      "source": [
        "for items in ['john','mary','alex']:\n",
        "  print(items)"
      ],
      "metadata": {
        "colab": {
          "base_uri": "https://localhost:8080/"
        },
        "id": "ebNcitl0lvis",
        "outputId": "ace20c80-a4ad-47c4-ff6f-11e861f8661c"
      },
      "execution_count": null,
      "outputs": [
        {
          "output_type": "stream",
          "name": "stdout",
          "text": [
            "john\n",
            "mary\n",
            "alex\n"
          ]
        }
      ]
    },
    {
      "cell_type": "markdown",
      "source": [
        "Range(5, 10, 2) is to print from 5 to 10, with every 2. (1:47 in the video)"
      ],
      "metadata": {
        "id": "UNov6-OcRjNa"
      }
    },
    {
      "cell_type": "code",
      "source": [
        "for number in range(5,10,2):\n",
        "  print(number)"
      ],
      "metadata": {
        "colab": {
          "base_uri": "https://localhost:8080/"
        },
        "id": "fAr3UINQRl19",
        "outputId": "86fa2819-7fd6-414d-961d-48b0ec1cb4bb"
      },
      "execution_count": null,
      "outputs": [
        {
          "output_type": "stream",
          "name": "stdout",
          "text": [
            "5\n",
            "7\n",
            "9\n"
          ]
        }
      ]
    },
    {
      "cell_type": "markdown",
      "source": [
        "Execise: to calcualte total price in a shopping cart"
      ],
      "metadata": {
        "id": "WVLcwbhpmvwP"
      }
    },
    {
      "cell_type": "code",
      "source": [
        "prices = [10,20,30]\n",
        "\n",
        "total = 0\n",
        "for price in prices:\n",
        "  total += price\n",
        "print(f\"Total: {total}\")"
      ],
      "metadata": {
        "colab": {
          "base_uri": "https://localhost:8080/"
        },
        "id": "1xVp_U_Sm1tQ",
        "outputId": "e08696c9-8f96-4101-8129-e8aaa65e1189"
      },
      "execution_count": null,
      "outputs": [
        {
          "output_type": "stream",
          "name": "stdout",
          "text": [
            "Total: 60\n"
          ]
        }
      ]
    },
    {
      "cell_type": "markdown",
      "source": [
        "Nested Loops"
      ],
      "metadata": {
        "id": "FNmUV25tniV4"
      }
    },
    {
      "cell_type": "code",
      "source": [
        "for x in range(4):\n",
        "  for y in range(3):\n",
        "    print(f'({x}, {y})')"
      ],
      "metadata": {
        "colab": {
          "base_uri": "https://localhost:8080/"
        },
        "id": "R-mZuhqSMpIa",
        "outputId": "25f7cfcb-9c56-49c8-f6d7-26331a5b494f"
      },
      "execution_count": null,
      "outputs": [
        {
          "output_type": "stream",
          "name": "stdout",
          "text": [
            "(0, 0)\n",
            "(0, 1)\n",
            "(0, 2)\n",
            "(1, 0)\n",
            "(1, 1)\n",
            "(1, 2)\n",
            "(2, 0)\n",
            "(2, 1)\n",
            "(2, 2)\n",
            "(3, 0)\n",
            "(3, 1)\n",
            "(3, 2)\n"
          ]
        }
      ]
    },
    {
      "cell_type": "markdown",
      "source": [
        "Execise: Draw this picture\n",
        "XXXXX\n",
        "XX\n",
        "XXXXX\n",
        "XX\n",
        "XX"
      ],
      "metadata": {
        "id": "gZ6LDKemNVMa"
      }
    },
    {
      "cell_type": "code",
      "source": [
        "numbers = [5,2,5,2,2]\n",
        "for x_count in numbers:\n",
        "  print('X' * x_count)"
      ],
      "metadata": {
        "colab": {
          "base_uri": "https://localhost:8080/"
        },
        "id": "Bldy1BEfNhLi",
        "outputId": "165a86be-c300-40ba-cdf1-d2dcceb8c1a9"
      },
      "execution_count": null,
      "outputs": [
        {
          "output_type": "stream",
          "name": "stdout",
          "text": [
            "XXXXX\n",
            "XX\n",
            "XXXXX\n",
            "XX\n",
            "XX\n"
          ]
        }
      ]
    },
    {
      "cell_type": "code",
      "source": [
        "numbers = [5,2,5,2,2]\n",
        "for x_count in numbers:\n",
        "  output = ''\n",
        "  for count in range(x_count):\n",
        "    output += 'x'\n",
        "  print(output)"
      ],
      "metadata": {
        "colab": {
          "base_uri": "https://localhost:8080/"
        },
        "id": "CY19YqwuPSXk",
        "outputId": "6b95c2d9-f37b-47fb-f2e0-93b91f4ba84c"
      },
      "execution_count": null,
      "outputs": [
        {
          "output_type": "stream",
          "name": "stdout",
          "text": [
            "xxxxx\n",
            "xx\n",
            "xxxxx\n",
            "xx\n",
            "xx\n"
          ]
        }
      ]
    },
    {
      "cell_type": "markdown",
      "source": [
        "**Lists & List Method**"
      ],
      "metadata": {
        "id": "V0_ZuDyoDTIg"
      }
    },
    {
      "cell_type": "code",
      "source": [
        "numbers = [1,2,3,4,5]\n",
        "numbers.insert(0, -1)  #Insert -1 to the 1st position#\n",
        "print(numbers)\n",
        "print(len(numbers))"
      ],
      "metadata": {
        "colab": {
          "base_uri": "https://localhost:8080/"
        },
        "id": "g1Z_n-BnDXYt",
        "outputId": "089ae468-9dfd-454f-8002-67a3709da907"
      },
      "execution_count": null,
      "outputs": [
        {
          "output_type": "stream",
          "name": "stdout",
          "text": [
            "[-1, 1, 2, 3, 4, 5]\n",
            "6\n"
          ]
        }
      ]
    },
    {
      "cell_type": "code",
      "source": [
        "names = ['John', 'Bob', 'Mosh', 'Sarah', 'Mary']\n",
        "print(names[2:])"
      ],
      "metadata": {
        "colab": {
          "base_uri": "https://localhost:8080/"
        },
        "id": "krj2eEr3QDvM",
        "outputId": "29befdfd-15ee-416f-a902-4b3eb8be6950"
      },
      "execution_count": null,
      "outputs": [
        {
          "output_type": "stream",
          "name": "stdout",
          "text": [
            "John\n"
          ]
        }
      ]
    },
    {
      "cell_type": "markdown",
      "source": [
        "Execise: To find the largest number in a list."
      ],
      "metadata": {
        "id": "Ujk2ON0zQz0E"
      }
    },
    {
      "cell_type": "code",
      "source": [
        "numbers = [25, 12, 18, 5, 39, 22]\n",
        "max = numbers[0]\n",
        "for number in numbers:\n",
        "  if number > max:\n",
        "    max = number\n",
        "print(max)"
      ],
      "metadata": {
        "colab": {
          "base_uri": "https://localhost:8080/"
        },
        "id": "KYgVxUhHQ3ZY",
        "outputId": "3ca283a1-8a73-4e86-c483-62c66f5484d2"
      },
      "execution_count": null,
      "outputs": [
        {
          "output_type": "stream",
          "name": "stdout",
          "text": [
            "39\n"
          ]
        }
      ]
    },
    {
      "cell_type": "markdown",
      "source": [
        "2D List (Important)"
      ],
      "metadata": {
        "id": "6JSN2af0TWyu"
      }
    },
    {
      "cell_type": "code",
      "source": [
        "matrix = [\n",
        "    [1, 2, 3],\n",
        "    [4, 5, 6],\n",
        "    [7, 8, 9]\n",
        "]\n",
        "print(matrix[0][0])\n",
        "matrix[0][0] = 20  # change 1 to 20 #\n",
        "print(matrix)"
      ],
      "metadata": {
        "colab": {
          "base_uri": "https://localhost:8080/"
        },
        "id": "NuSFCvGjTxF_",
        "outputId": "7ec6e7b6-a2fe-4aab-8ced-e1b662353e30"
      },
      "execution_count": null,
      "outputs": [
        {
          "output_type": "stream",
          "name": "stdout",
          "text": [
            "1\n",
            "[[20, 2, 3], [4, 5, 6], [7, 8, 9]]\n"
          ]
        }
      ]
    },
    {
      "cell_type": "markdown",
      "source": [
        "To use nested loop to run through all elements in matrix."
      ],
      "metadata": {
        "id": "gbyIXjVIUwiu"
      }
    },
    {
      "cell_type": "code",
      "source": [
        "for row in matrix:\n",
        "  for item in row:\n",
        "    print(item)"
      ],
      "metadata": {
        "colab": {
          "base_uri": "https://localhost:8080/"
        },
        "id": "U0PLgBnlUUIK",
        "outputId": "c2468701-332c-4a37-cd3f-fa966e54ffec"
      },
      "execution_count": null,
      "outputs": [
        {
          "output_type": "stream",
          "name": "stdout",
          "text": [
            "20\n",
            "2\n",
            "3\n",
            "4\n",
            "5\n",
            "6\n",
            "7\n",
            "8\n",
            "9\n"
          ]
        }
      ]
    },
    {
      "cell_type": "markdown",
      "source": [
        "list Method: append, insert, index (position index) , pop"
      ],
      "metadata": {
        "id": "LIXb5qV-VNj3"
      }
    },
    {
      "cell_type": "code",
      "source": [
        "numbers = [5, 2, 1, 7, 4]\n",
        "numbers.append(20) # add to the end#\n",
        "numbers.insert(0, 10) #add from the start#\n",
        "print(numbers)\n",
        "print(50 in numbers) #true or false#\n",
        "print(numbers.count(5)) # count how many 5's in the list#\n",
        "numbers.sort() #sort a list#\n",
        "numbers.reverse()\n",
        "print(numbers)\n",
        "\n",
        "numbers2 = numbers.copy() #copy a list#"
      ],
      "metadata": {
        "colab": {
          "base_uri": "https://localhost:8080/"
        },
        "id": "J8uG3TS1VPOx",
        "outputId": "5b924519-6ca7-43da-9a2b-259b86af911c"
      },
      "execution_count": null,
      "outputs": [
        {
          "output_type": "stream",
          "name": "stdout",
          "text": [
            "[10, 5, 2, 1, 7, 4, 20]\n",
            "False\n",
            "[1, 2, 4, 5, 7, 10, 20]\n"
          ]
        }
      ]
    },
    {
      "cell_type": "markdown",
      "source": [
        "Execise: to remove duplicates in a ist"
      ],
      "metadata": {
        "id": "VUheiB4xW8xL"
      }
    },
    {
      "cell_type": "code",
      "source": [
        "numbers = [2, 4, 6, 8, 6, 9]\n",
        "uniques = []\n",
        "for number in numbers:\n",
        "  if number not in uniques:\n",
        "    uniques.append(number)\n",
        "print(uniques)"
      ],
      "metadata": {
        "colab": {
          "base_uri": "https://localhost:8080/"
        },
        "id": "-18fvGVcXDFo",
        "outputId": "16cfe9e6-901a-497f-b909-731f992f772d"
      },
      "execution_count": null,
      "outputs": [
        {
          "output_type": "stream",
          "name": "stdout",
          "text": [
            "[2, 4, 6, 8, 9]\n"
          ]
        }
      ]
    },
    {
      "cell_type": "markdown",
      "source": [
        "**Tuples**: Tuples are like list. But it can't be changed. Tuples use ()."
      ],
      "metadata": {
        "id": "QdTSjrsuYiKB"
      }
    },
    {
      "cell_type": "code",
      "source": [
        "numbers = (1,2,3)"
      ],
      "metadata": {
        "id": "jDGbwRPZ6Oby"
      },
      "execution_count": null,
      "outputs": []
    },
    {
      "cell_type": "markdown",
      "source": [
        "**Unpacking**: a powerful skill to unpack a list or a tuple."
      ],
      "metadata": {
        "id": "mvkOm1T86fVU"
      }
    },
    {
      "cell_type": "code",
      "source": [
        "cooridnates = (1,2,3)\n",
        "x, y, z = cooridnates\n",
        "print(x)"
      ],
      "metadata": {
        "colab": {
          "base_uri": "https://localhost:8080/"
        },
        "id": "Hg7abAAo6jQ4",
        "outputId": "bcfcb88b-800d-4e7e-eaf0-b52f34cdb00e"
      },
      "execution_count": null,
      "outputs": [
        {
          "output_type": "stream",
          "name": "stdout",
          "text": [
            "1\n"
          ]
        }
      ]
    },
    {
      "cell_type": "markdown",
      "source": [
        "**Dictionaries**:: a way in Python to stoare a pair of values, using {}."
      ],
      "metadata": {
        "id": "4Djp0XCa7UHx"
      }
    },
    {
      "cell_type": "code",
      "source": [
        "from typing_extensions import TypeVarTuple\n",
        "customer = {\n",
        "    \"name\": \"John Smith\",\n",
        "    \"age\": 30,\n",
        "    \"is_verified\": True\n",
        "}\n",
        "print(customer.get(\"name\"))"
      ],
      "metadata": {
        "colab": {
          "base_uri": "https://localhost:8080/"
        },
        "id": "I9W7YJEz7u4W",
        "outputId": "130bfd67-0cf8-4a75-fa14-0bf83184d53d"
      },
      "execution_count": null,
      "outputs": [
        {
          "output_type": "stream",
          "name": "stdout",
          "text": [
            "John Smith\n"
          ]
        }
      ]
    },
    {
      "cell_type": "markdown",
      "source": [
        "Execise: Translast number to word"
      ],
      "metadata": {
        "id": "RVMl9BZVC4M9"
      }
    },
    {
      "cell_type": "code",
      "source": [
        "phone = input(\"Phone: \")\n",
        "digits_mapping = {\n",
        "    \"1\": \"One\",\n",
        "    \"2\": \"Two\",\n",
        "    \"3\": \"Three\",\n",
        "    \"4\": \"Four\"\n",
        "}\n",
        "output = \"\"\n",
        "for ch in phone:\n",
        "  output += digits_mapping.get(ch, \"!\") + \" \" #If ch is not in, use !#\n",
        "print(output)"
      ],
      "metadata": {
        "colab": {
          "base_uri": "https://localhost:8080/"
        },
        "id": "brhrfDH9C84q",
        "outputId": "bb772dce-b3b9-4856-a6de-c6b65d82252d"
      },
      "execution_count": null,
      "outputs": [
        {
          "output_type": "stream",
          "name": "stdout",
          "text": [
            "Phone: 5463\n",
            "! Four ! Three \n"
          ]
        }
      ]
    },
    {
      "cell_type": "markdown",
      "source": [
        "Execise: Tranlate word into Emoji"
      ],
      "metadata": {
        "id": "36DqLx5IH0IB"
      }
    },
    {
      "cell_type": "code",
      "source": [
        "message = input (\">\") # by this, user can store a value.#\n",
        "words = message.split(\" \") # Split the sentence into words, by space#\n",
        "emojis = {\n",
        "    \":)\": \"😁\", # Windows log + period#\n",
        "    \":(\": \"😒\"\n",
        "}\n",
        "output = \"\"\n",
        "for word in words:\n",
        "  output += emojis.get(word, word) + \" \"\n",
        "print(output)"
      ],
      "metadata": {
        "colab": {
          "base_uri": "https://localhost:8080/"
        },
        "id": "csUlGymFH5T6",
        "outputId": "4d328610-ccb1-4586-e633-cdde5ffddf73"
      },
      "execution_count": null,
      "outputs": [
        {
          "output_type": "stream",
          "name": "stdout",
          "text": [
            ">this is great :)\n",
            "this is great 😁 \n"
          ]
        }
      ]
    },
    {
      "cell_type": "markdown",
      "source": [
        "**Function and Parameters**: use \"def\" to define a function. Name it using lower case and \"_\". (Generally use 2-line space after a function."
      ],
      "metadata": {
        "id": "eniYCkAGJ7QU"
      }
    },
    {
      "cell_type": "code",
      "source": [
        "def greet_user(first_name, last_name):\n",
        "  print(f'Hi {first_name} {last_name}!')\n",
        "  print(\"welcome aboard\")\n",
        "\n",
        "\n",
        "print(\"Start\")\n",
        "greet_user(\"Alex\", \"Smith\")\n",
        "greet_user(\"Mary\" , \"Joe\")\n",
        "print(\"Finish\")"
      ],
      "metadata": {
        "colab": {
          "base_uri": "https://localhost:8080/"
        },
        "id": "HBpTlQTUKKeb",
        "outputId": "74f31f47-b4eb-4634-90ae-8890791e18b8"
      },
      "execution_count": null,
      "outputs": [
        {
          "output_type": "stream",
          "name": "stdout",
          "text": [
            "Start\n",
            "Hi Alex Smith!\n",
            "welcome aboard\n",
            "Hi Mary Joe!\n",
            "welcome aboard\n",
            "Finish\n"
          ]
        }
      ]
    },
    {
      "cell_type": "markdown",
      "source": [
        "Keyword Arguments. Most of time use \"positional argument\" (like above). To increase code readability, use \"keyword argument\"."
      ],
      "metadata": {
        "id": "v-7_jvI8LJ0Y"
      }
    },
    {
      "cell_type": "code",
      "source": [
        "def greet_user(first_name, last_name):\n",
        "  print(f'Hi {first_name} {last_name}!')\n",
        "  print(\"welcome aboard\")\n",
        "\n",
        "\n",
        "print(\"Start\")\n",
        "greet_user(first_name=\"Alex\", last_name=\"Smith\")\n",
        "greet_user(last_name=\"Mary\" , first_name=\"Joe\") # position doesn't matter anymore#\n",
        "print(\"Finish\")"
      ],
      "metadata": {
        "colab": {
          "base_uri": "https://localhost:8080/"
        },
        "id": "SPLWCHZfNNFr",
        "outputId": "d6f1e217-8580-4d72-d135-ab0d2e57071f"
      },
      "execution_count": null,
      "outputs": [
        {
          "output_type": "stream",
          "name": "stdout",
          "text": [
            "Start\n",
            "Hi Alex Smith!\n",
            "welcome aboard\n",
            "Hi Joe Mary!\n",
            "welcome aboard\n",
            "Finish\n"
          ]
        }
      ]
    },
    {
      "cell_type": "markdown",
      "source": [
        "Return Statement"
      ],
      "metadata": {
        "id": "GZvVIi2uOeAR"
      }
    },
    {
      "cell_type": "code",
      "source": [
        "def square(number):\n",
        "  return number * number\n",
        "\n",
        "print(square(3))"
      ],
      "metadata": {
        "colab": {
          "base_uri": "https://localhost:8080/"
        },
        "id": "PaFEK-ueOgfg",
        "outputId": "a1ba4a9b-4d27-4afe-a3a4-927ef1048e70"
      },
      "execution_count": null,
      "outputs": [
        {
          "output_type": "stream",
          "name": "stdout",
          "text": [
            "9\n"
          ]
        }
      ]
    },
    {
      "cell_type": "markdown",
      "source": [
        "Creating a Reusable Function"
      ],
      "metadata": {
        "id": "LvIYr-CiPQ6G"
      }
    },
    {
      "cell_type": "code",
      "source": [
        "def emoji_converter(message):\n",
        "    words = message.split(\" \") # Split the sentence into words, by space#\n",
        "    emojis = {\n",
        "      \":)\": \"😁\", # Windows log + period#\n",
        "      \":(\": \"😒\"\n",
        "    }\n",
        "    output = \"\"\n",
        "    for word in words:\n",
        "      output += emojis.get(word, word) + \" \""
      ],
      "metadata": {
        "id": "zLUQmlXin3T8"
      },
      "execution_count": null,
      "outputs": []
    },
    {
      "cell_type": "markdown",
      "source": [
        "this is another test."
      ],
      "metadata": {
        "id": "gXdlQHRDuLJ0"
      }
    }
  ]
}